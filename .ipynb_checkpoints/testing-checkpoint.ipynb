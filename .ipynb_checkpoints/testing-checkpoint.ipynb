{
 "cells": [
  {
   "cell_type": "code",
   "execution_count": 56,
   "id": "1a6abde6-a3ca-4a46-b1cf-d4b1a7176ecc",
   "metadata": {},
   "outputs": [],
   "source": [
    "import numpy as np\n",
    "import scipy.io as sio\n",
    "import matplotlib.pyplot as plt\n",
    "a = [2,3,4,5,65,7,8,90,1]"
   ]
  },
  {
   "cell_type": "code",
   "execution_count": 2,
   "id": "37a47f42-53f7-439c-9c89-d983a99d8235",
   "metadata": {},
   "outputs": [
    {
     "data": {
      "text/plain": [
       "array([[2],\n",
       "       [3],\n",
       "       [4]])"
      ]
     },
     "execution_count": 2,
     "metadata": {},
     "output_type": "execute_result"
    }
   ],
   "source": [
    "b = np.reshape(a,(3,3,1))\n",
    "b[0]"
   ]
  },
  {
   "cell_type": "code",
   "execution_count": 50,
   "id": "63ca0d71-2ef8-4e98-837b-c0ca34e477d4",
   "metadata": {},
   "outputs": [
    {
     "name": "stderr",
     "output_type": "stream",
     "text": [
      "<ipython-input-50-ce5c0deec132>:1: DeprecationWarning: `np.object` is a deprecated alias for the builtin `object`. To silence this warning, use `object` by itself. Doing this will not modify any behavior and is safe. \n",
      "Deprecated in NumPy 1.20; for more details and guidance: https://numpy.org/devdocs/release/1.20.0-notes.html#deprecations\n",
      "  c = np.zeros((3,), dtype=np.object)\n"
     ]
    }
   ],
   "source": [
    "c = np.zeros((3,), dtype=np.object)\n",
    "d = np.zeros((3,), dtype=np.int16)\n",
    "\n",
    "\n",
    "for i in range(3):\n",
    "    c[i] = B[i,:,:]\n",
    "dic = {'predicted_dg':c }\n",
    "sio.savemat('testmat.mat',dic)"
   ]
  },
  {
   "cell_type": "code",
   "execution_count": 51,
   "id": "68468d4c-8767-43f9-8219-18ecc78ea2ec",
   "metadata": {},
   "outputs": [
    {
     "data": {
      "text/plain": [
       "{'__header__': b'MATLAB 5.0 MAT-file Platform: posix, Created on: Wed Apr 13 21:03:09 2022',\n",
       " '__version__': '1.0',\n",
       " '__globals__': [],\n",
       " 'predicted_dg': array([[array([[0.20888893, 0.20869043, 0.20849237, 0.20829475, 0.20809757],\n",
       "                [0.20790084, 0.20770455, 0.20750869, 0.20731328, 0.20711831],\n",
       "                [0.20692377, 0.20672968, 0.20653603, 0.20634281, 0.20615003],\n",
       "                ...,\n",
       "                [0.11739458, 0.11756379, 0.11773277, 0.11790151, 0.11807001],\n",
       "                [0.11823827, 0.1184063 , 0.11857408, 0.11874163, 0.11890893],\n",
       "                [0.119076  , 0.11924283, 0.11940941, 0.11957576, 0.11974186]]),\n",
       "         array([[ 0.19471871,  0.19466869,  0.19461899,  0.19456963,  0.1945206 ],\n",
       "                [ 0.19447191,  0.19442355,  0.19437552,  0.19432782,  0.19428046],\n",
       "                [ 0.19423343,  0.19418673,  0.19414036,  0.19409433,  0.19404862],\n",
       "                ...,\n",
       "                [-0.16492991, -0.16496976, -0.16500941, -0.16504887, -0.16508813],\n",
       "                [-0.1651272 , -0.16516607, -0.16520474, -0.16524322, -0.1652815 ],\n",
       "                [-0.1653196 , -0.16535749, -0.1653952 , -0.16543271, -0.16547003]]),\n",
       "         array([[-0.54647338, -0.54641314, -0.54635281, -0.5462924 , -0.54623191],\n",
       "                [-0.54617134, -0.54611068, -0.54604995, -0.54598913, -0.54592824],\n",
       "                [-0.54586726, -0.54580621, -0.54574507, -0.54568385, -0.54562256],\n",
       "                ...,\n",
       "                [-0.11984288, -0.11990798, -0.11997296, -0.12003781, -0.12010254],\n",
       "                [-0.12016714, -0.12023161, -0.12029595, -0.12036015, -0.12042423],\n",
       "                [-0.12048817, -0.12055197, -0.12061564, -0.12067917, -0.12074255]])]],\n",
       "       dtype=object)}"
      ]
     },
     "execution_count": 51,
     "metadata": {},
     "output_type": "execute_result"
    }
   ],
   "source": [
    "sio.loadmat('testmat.mat')"
   ]
  },
  {
   "cell_type": "code",
   "execution_count": 36,
   "id": "c24fafa2-131f-4c97-ba01-a2d7e93db563",
   "metadata": {},
   "outputs": [],
   "source": [
    "A = sio.loadmat('leaderboard_predict_dg.mat')"
   ]
  },
  {
   "cell_type": "code",
   "execution_count": 38,
   "id": "1891b376-ca15-470d-ba68-060b2a8204b3",
   "metadata": {},
   "outputs": [],
   "source": [
    "B = A['predict_dg']"
   ]
  },
  {
   "cell_type": "code",
   "execution_count": 43,
   "id": "9f6cbe47-aaa2-4008-bbe6-b31075ec9bfd",
   "metadata": {},
   "outputs": [
    {
     "data": {
      "text/plain": [
       "array([[0, 0, 0, 0, 0],\n",
       "       [0, 0, 0, 0, 0],\n",
       "       [0, 0, 0, 0, 0],\n",
       "       ...,\n",
       "       [0, 0, 0, 0, 0],\n",
       "       [0, 0, 0, 0, 0],\n",
       "       [0, 0, 0, 0, 0]], dtype=int16)"
      ]
     },
     "execution_count": 43,
     "metadata": {},
     "output_type": "execute_result"
    }
   ],
   "source": [
    "C = B[0,:,:]\n",
    "np.array(C, dtype=np.int16)"
   ]
  },
  {
   "cell_type": "code",
   "execution_count": 9,
   "id": "b3da31b1-7645-4fed-bfe7-6eaf6e0542e1",
   "metadata": {},
   "outputs": [
    {
     "data": {
      "text/plain": [
       "{'__header__': b'MATLAB 5.0 MAT-file, Platform: MACI64, Created on: Thu Apr  9 21:34:40 2020',\n",
       " '__version__': '1.0',\n",
       " '__globals__': [],\n",
       " 'leaderboard_ecog': array([[array([[-2328,  1708, -2017, ..., -2398,  -626,  1081],\n",
       "                [-2366,  1355, -2129, ..., -2953,  -991,   894],\n",
       "                [-2129,  1368, -1583, ..., -3209, -1033,   940],\n",
       "                ...,\n",
       "                [-1021,   -95,  -895, ...,   799,   -69,  -166],\n",
       "                [ -797,   153, -1140, ...,  1043,   140,  -161],\n",
       "                [ -761,   292, -1288, ...,  1254,   235,     2]], dtype=int16)],\n",
       "        [array([[  580,   813,   270, ...,  4119,  8385,   690],\n",
       "                [  442,   525,     6, ...,  3982,  8156,   563],\n",
       "                [  259,   273,  -328, ...,  3726,  7789,   380],\n",
       "                ...,\n",
       "                [-2613,   621, -3343, ...,  -432,  -430,  -428],\n",
       "                [-2834,   305, -3581, ...,  -484,  -500,  -558],\n",
       "                [-3060,    82, -3865, ...,  -564,  -561,  -686]], dtype=int32)],\n",
       "        [array([[ 1068,   328, -1627, ..., -2985,  3338,  1916],\n",
       "                [  710,   -25, -1763, ..., -3123,  3159,  1402],\n",
       "                [  714,    85, -1582, ..., -2716,  3384,  1278],\n",
       "                ...,\n",
       "                [-2233,  -173,    87, ...,  2894, -1241,  5125],\n",
       "                [-1805,    99,   460, ...,  3237,  -884,  5384],\n",
       "                [-1343,   435,  1013, ...,  3666,  -338,  5578]], dtype=int16)]],\n",
       "       dtype=object)}"
      ]
     },
     "execution_count": 9,
     "metadata": {},
     "output_type": "execute_result"
    }
   ],
   "source": [
    "sio.loadmat('./data/leaderboard_data.mat')"
   ]
  },
  {
   "cell_type": "code",
   "execution_count": 57,
   "id": "9f9ef627-1f18-44d9-89f1-97a7ae833ccf",
   "metadata": {},
   "outputs": [
    {
     "ename": "NameError",
     "evalue": "name 'leaderboard_data' is not defined",
     "output_type": "error",
     "traceback": [
      "\u001b[0;31m---------------------------------------------------------------------------\u001b[0m",
      "\u001b[0;31mNameError\u001b[0m                                 Traceback (most recent call last)",
      "Input \u001b[0;32mIn [57]\u001b[0m, in \u001b[0;36m<cell line: 1>\u001b[0;34m()\u001b[0m\n\u001b[0;32m----> 1\u001b[0m plt\u001b[38;5;241m.\u001b[39mplot(\u001b[43mleaderboard_data\u001b[49m[\u001b[38;5;124m'\u001b[39m\u001b[38;5;124mleaderboard_ecog\u001b[39m\u001b[38;5;124m'\u001b[39m][\u001b[38;5;241m0\u001b[39m][\u001b[38;5;241m0\u001b[39m][:,\u001b[38;5;241m0\u001b[39m])\n\u001b[1;32m      2\u001b[0m plt\u001b[38;5;241m.\u001b[39mshow()\n",
      "\u001b[0;31mNameError\u001b[0m: name 'leaderboard_data' is not defined"
     ]
    }
   ],
   "source": [
    "plt.plot(leaderboard_data['leaderboard_ecog'][0][0][:,0])\n",
    "plt.show()"
   ]
  }
 ],
 "metadata": {
  "kernelspec": {
   "display_name": "Python 3",
   "language": "python",
   "name": "python3"
  },
  "language_info": {
   "codemirror_mode": {
    "name": "ipython",
    "version": 3
   },
   "file_extension": ".py",
   "mimetype": "text/x-python",
   "name": "python",
   "nbconvert_exporter": "python",
   "pygments_lexer": "ipython3",
   "version": "3.8.10"
  }
 },
 "nbformat": 4,
 "nbformat_minor": 5
}
