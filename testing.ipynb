{
 "cells": [
  {
   "cell_type": "code",
   "execution_count": 9,
   "id": "1a6abde6-a3ca-4a46-b1cf-d4b1a7176ecc",
   "metadata": {},
   "outputs": [],
   "source": [
    "import numpy as np\n",
    "import scipy.io as sio\n",
    "a = [2,3,4,5,65,7,8,90,1]"
   ]
  },
  {
   "cell_type": "code",
   "execution_count": 8,
   "id": "37a47f42-53f7-439c-9c89-d983a99d8235",
   "metadata": {},
   "outputs": [
    {
     "data": {
      "text/plain": [
       "array([[2],\n",
       "       [3],\n",
       "       [4]])"
      ]
     },
     "execution_count": 8,
     "metadata": {},
     "output_type": "execute_result"
    }
   ],
   "source": [
    "b = np.reshape(a,(3,3,1))\n",
    "b[0]"
   ]
  },
  {
   "cell_type": "code",
   "execution_count": 11,
   "id": "63ca0d71-2ef8-4e98-837b-c0ca34e477d4",
   "metadata": {},
   "outputs": [
    {
     "name": "stderr",
     "output_type": "stream",
     "text": [
      "<ipython-input-11-db564e2b4ccf>:1: DeprecationWarning: `np.object` is a deprecated alias for the builtin `object`. To silence this warning, use `object` by itself. Doing this will not modify any behavior and is safe. \n",
      "Deprecated in NumPy 1.20; for more details and guidance: https://numpy.org/devdocs/release/1.20.0-notes.html#deprecations\n",
      "  c = np.zeros((3,), dtype=np.object)\n"
     ]
    }
   ],
   "source": [
    "c = np.zeros((3,), dtype=np.object)\n",
    "c[0]={}\n",
    "c[1]={}\n",
    "c[2]={}\n",
    "for i in range(3):\n",
    "    c[i] = b[i]\n"
   ]
  }
 ],
 "metadata": {
  "kernelspec": {
   "display_name": "Python 3",
   "language": "python",
   "name": "python3"
  },
  "language_info": {
   "codemirror_mode": {
    "name": "ipython",
    "version": 3
   },
   "file_extension": ".py",
   "mimetype": "text/x-python",
   "name": "python",
   "nbconvert_exporter": "python",
   "pygments_lexer": "ipython3",
   "version": "3.8.10"
  }
 },
 "nbformat": 4,
 "nbformat_minor": 5
}
